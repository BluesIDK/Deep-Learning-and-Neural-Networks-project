{
 "cells": [
  {
   "cell_type": "code",
   "execution_count": null,
   "id": "546a78de",
   "metadata": {},
   "outputs": [
    {
     "name": "stderr",
     "output_type": "stream",
     "text": [
      "[nltk_data] Downloading package punkt to C:/nltk_data...\n",
      "[nltk_data]   Package punkt is already up-to-date!\n",
      "[nltk_data] Downloading package stopwords to C:/nltk_data...\n",
      "[nltk_data]   Package stopwords is already up-to-date!\n"
     ]
    },
    {
     "data": {
      "text/plain": [
       "True"
      ]
     },
     "execution_count": 1,
     "metadata": {},
     "output_type": "execute_result"
    }
   ],
   "source": [
    "import nltk\n",
    "nltk.download('punkt')\n",
    "nltk.download('stopwords')\n",
    "nltk.download('wordnet')     # For lemmatization\n",
    "nltk.download('omw-1.4')     # For multilingual WordNet support\n",
    "nltk.download('averaged_perceptron_tagger')  # For POS tagging (optional)\n",
    "\n"
   ]
  },
  {
   "cell_type": "code",
   "execution_count": null,
   "id": "c7124bee",
   "metadata": {},
   "outputs": [],
   "source": [
    "import pandas as pd\n",
    "import numpy as np\n",
    "import matplotlib.pyplot as plt\n",
    "import seaborn as sns\n",
    "import re\n",
    "import nltk\n",
    "from nltk.corpus import stopwords\n",
    "from nltk.tokenize import word_tokenize\n",
    "from sklearn.model_selection import train_test_split\n",
    "from sklearn.feature_extraction.text import TfidfVectorizer\n",
    "from sklearn.preprocessing import LabelEncoder\n",
    "from tensorflow.keras.models import Sequential\n",
    "from tensorflow.keras.layers import Dense\n",
    "from tensorflow.keras.optimizers import Adam\n"
   ]
  },
  {
   "cell_type": "markdown",
   "id": "69428d76",
   "metadata": {},
   "source": [
    "## Loading the IMDB Dataset \n",
    "\n",
    "We load our IMDB dataset containing movie reviews and corresponding sentiment labels (positive/negative). This dataset will serve as the foundation for training our sentiment classification model.\n"
   ]
  },
  {
   "cell_type": "code",
   "execution_count": 4,
   "id": "662d6482",
   "metadata": {},
   "outputs": [],
   "source": [
    "df = pd.read_csv('C:\\\\Users\\\\amira\\\\Documents\\\\Deep-Learning-and-Neural-Networks-project\\\\IMDB Dataset.csv')"
   ]
  },
  {
   "cell_type": "code",
   "execution_count": 5,
   "id": "ee77c682",
   "metadata": {},
   "outputs": [
    {
     "data": {
      "text/html": [
       "<div>\n",
       "<style scoped>\n",
       "    .dataframe tbody tr th:only-of-type {\n",
       "        vertical-align: middle;\n",
       "    }\n",
       "\n",
       "    .dataframe tbody tr th {\n",
       "        vertical-align: top;\n",
       "    }\n",
       "\n",
       "    .dataframe thead th {\n",
       "        text-align: right;\n",
       "    }\n",
       "</style>\n",
       "<table border=\"1\" class=\"dataframe\">\n",
       "  <thead>\n",
       "    <tr style=\"text-align: right;\">\n",
       "      <th></th>\n",
       "      <th>review</th>\n",
       "      <th>sentiment</th>\n",
       "    </tr>\n",
       "  </thead>\n",
       "  <tbody>\n",
       "    <tr>\n",
       "      <th>0</th>\n",
       "      <td>One of the other reviewers has mentioned that ...</td>\n",
       "      <td>positive</td>\n",
       "    </tr>\n",
       "    <tr>\n",
       "      <th>1</th>\n",
       "      <td>A wonderful little production. &lt;br /&gt;&lt;br /&gt;The...</td>\n",
       "      <td>positive</td>\n",
       "    </tr>\n",
       "    <tr>\n",
       "      <th>2</th>\n",
       "      <td>I thought this was a wonderful way to spend ti...</td>\n",
       "      <td>positive</td>\n",
       "    </tr>\n",
       "    <tr>\n",
       "      <th>3</th>\n",
       "      <td>Basically there's a family where a little boy ...</td>\n",
       "      <td>negative</td>\n",
       "    </tr>\n",
       "    <tr>\n",
       "      <th>4</th>\n",
       "      <td>Petter Mattei's \"Love in the Time of Money\" is...</td>\n",
       "      <td>positive</td>\n",
       "    </tr>\n",
       "    <tr>\n",
       "      <th>5</th>\n",
       "      <td>Probably my all-time favorite movie, a story o...</td>\n",
       "      <td>positive</td>\n",
       "    </tr>\n",
       "    <tr>\n",
       "      <th>6</th>\n",
       "      <td>I sure would like to see a resurrection of a u...</td>\n",
       "      <td>positive</td>\n",
       "    </tr>\n",
       "    <tr>\n",
       "      <th>7</th>\n",
       "      <td>This show was an amazing, fresh &amp; innovative i...</td>\n",
       "      <td>negative</td>\n",
       "    </tr>\n",
       "    <tr>\n",
       "      <th>8</th>\n",
       "      <td>Encouraged by the positive comments about this...</td>\n",
       "      <td>negative</td>\n",
       "    </tr>\n",
       "    <tr>\n",
       "      <th>9</th>\n",
       "      <td>If you like original gut wrenching laughter yo...</td>\n",
       "      <td>positive</td>\n",
       "    </tr>\n",
       "  </tbody>\n",
       "</table>\n",
       "</div>"
      ],
      "text/plain": [
       "                                              review sentiment\n",
       "0  One of the other reviewers has mentioned that ...  positive\n",
       "1  A wonderful little production. <br /><br />The...  positive\n",
       "2  I thought this was a wonderful way to spend ti...  positive\n",
       "3  Basically there's a family where a little boy ...  negative\n",
       "4  Petter Mattei's \"Love in the Time of Money\" is...  positive\n",
       "5  Probably my all-time favorite movie, a story o...  positive\n",
       "6  I sure would like to see a resurrection of a u...  positive\n",
       "7  This show was an amazing, fresh & innovative i...  negative\n",
       "8  Encouraged by the positive comments about this...  negative\n",
       "9  If you like original gut wrenching laughter yo...  positive"
      ]
     },
     "execution_count": 5,
     "metadata": {},
     "output_type": "execute_result"
    }
   ],
   "source": [
    "df.head(10)"
   ]
  },
  {
   "cell_type": "code",
   "execution_count": 6,
   "id": "1ae3bbe5",
   "metadata": {},
   "outputs": [
    {
     "name": "stdout",
     "output_type": "stream",
     "text": [
      "<class 'pandas.core.frame.DataFrame'>\n",
      "RangeIndex: 50000 entries, 0 to 49999\n",
      "Data columns (total 2 columns):\n",
      " #   Column     Non-Null Count  Dtype \n",
      "---  ------     --------------  ----- \n",
      " 0   review     50000 non-null  object\n",
      " 1   sentiment  50000 non-null  object\n",
      "dtypes: object(2)\n",
      "memory usage: 781.4+ KB\n"
     ]
    }
   ],
   "source": [
    "df.info()"
   ]
  },
  {
   "cell_type": "code",
   "execution_count": 7,
   "id": "f1361b41",
   "metadata": {},
   "outputs": [
    {
     "data": {
      "text/html": [
       "<div>\n",
       "<style scoped>\n",
       "    .dataframe tbody tr th:only-of-type {\n",
       "        vertical-align: middle;\n",
       "    }\n",
       "\n",
       "    .dataframe tbody tr th {\n",
       "        vertical-align: top;\n",
       "    }\n",
       "\n",
       "    .dataframe thead th {\n",
       "        text-align: right;\n",
       "    }\n",
       "</style>\n",
       "<table border=\"1\" class=\"dataframe\">\n",
       "  <thead>\n",
       "    <tr style=\"text-align: right;\">\n",
       "      <th></th>\n",
       "      <th>review</th>\n",
       "      <th>sentiment</th>\n",
       "    </tr>\n",
       "  </thead>\n",
       "  <tbody>\n",
       "    <tr>\n",
       "      <th>count</th>\n",
       "      <td>50000</td>\n",
       "      <td>50000</td>\n",
       "    </tr>\n",
       "    <tr>\n",
       "      <th>unique</th>\n",
       "      <td>49582</td>\n",
       "      <td>2</td>\n",
       "    </tr>\n",
       "    <tr>\n",
       "      <th>top</th>\n",
       "      <td>Loved today's show!!! It was a variety and not...</td>\n",
       "      <td>positive</td>\n",
       "    </tr>\n",
       "    <tr>\n",
       "      <th>freq</th>\n",
       "      <td>5</td>\n",
       "      <td>25000</td>\n",
       "    </tr>\n",
       "  </tbody>\n",
       "</table>\n",
       "</div>"
      ],
      "text/plain": [
       "                                                   review sentiment\n",
       "count                                               50000     50000\n",
       "unique                                              49582         2\n",
       "top     Loved today's show!!! It was a variety and not...  positive\n",
       "freq                                                    5     25000"
      ]
     },
     "execution_count": 7,
     "metadata": {},
     "output_type": "execute_result"
    }
   ],
   "source": [
    "df.describe()"
   ]
  },
  {
   "cell_type": "code",
   "execution_count": 8,
   "id": "35f78d39",
   "metadata": {},
   "outputs": [
    {
     "data": {
      "text/plain": [
       "sentiment\n",
       "positive    25000\n",
       "negative    25000\n",
       "Name: count, dtype: int64"
      ]
     },
     "execution_count": 8,
     "metadata": {},
     "output_type": "execute_result"
    }
   ],
   "source": [
    "df['sentiment'].value_counts()"
   ]
  },
  {
   "cell_type": "code",
   "execution_count": 9,
   "id": "bcbefab9",
   "metadata": {},
   "outputs": [
    {
     "data": {
      "image/png": "[encoded data removed]",
      "text/plain": [
       "<Figure size 640x480 with 1 Axes>"
      ]
     },
     "metadata": {},
     "output_type": "display_data"
    }
   ],
   "source": [
    "sns.countplot(x='sentiment', data=df)\n",
    "plt.title('Sentiment Distribution')\n",
    "plt.show()"
   ]
  },
  {
   "cell_type": "code",
   "execution_count": 10,
   "id": "39fa0dce",
   "metadata": {},
   "outputs": [
    {
     "data": {
      "image/png": "[encoded data removed]",
      "text/plain": [
       "<Figure size 640x480 with 1 Axes>"
      ]
     },
     "metadata": {},
     "output_type": "display_data"
    }
   ],
   "source": [
    "# Step 3: Analyze review lengths (for insight only)\n",
    "df['review_length'] = df['review'].apply(lambda x: len(x.split()))\n",
    "sns.histplot(df['review_length'], bins=50, kde=True)\n",
    "plt.title('Distribution of Review Lengths')\n",
    "plt.xlabel('Number of Words')\n",
    "plt.ylabel('Frequency')\n",
    "plt.show()"
   ]
  },
  {
   "cell_type": "markdown",
   "id": "2c3e834c",
   "metadata": {},
   "source": [
    "## Text Preprocessing Function \n",
    "\n",
    "We define a preprocessing function to clean the review text by:\n",
    "- Lowercasing\n",
    "- Removing HTML tags, URLs, punctuation, and numbers\n",
    "- Removing stopwords\n",
    "- Tokenizing and joining back into clean text\n",
    "\n",
    "This function ensures uniform and clean data for the model.\n"
   ]
  },
  {
   "cell_type": "code",
   "execution_count": 11,
   "id": "29f6e6af",
   "metadata": {},
   "outputs": [],
   "source": [
    "# Step 4: Preprocess text - Lowercase, remove HTML, URLs, tokenize, remove stopwords\n",
    "def preprocess_text(text):\n",
    "    text = text.lower()  # Convert to lowercase\n",
    "    text = re.sub(r'<.*?>', '', text)  # Remove HTML tags\n",
    "    text = re.sub(r'http\\S+|www\\S+', '', text)  # Remove URLs\n",
    "    tokens = word_tokenize(text)  # Tokenize text\n",
    "    stop_words = set(stopwords.words('english'))\n",
    "    filtered_tokens = [word for word in tokens if word.isalpha() and word not in stop_words]\n",
    "    return ' '.join(filtered_tokens)  # Join tokens back to a string"
   ]
  },
  {
   "cell_type": "markdown",
   "id": "ab4dddec",
   "metadata": {},
   "source": [
    "## i have tried over and over again these lines but to no avail, so i chose to not use nltk at all:\n",
    "\n",
    "### first i tried this one: \n",
    "\n",
    "Apply preprocessing to the reviews:\n",
    "\n",
    "df['clean_review'] = df['review'].apply(preprocess_text) \n",
    "\n",
    "### then these:\n",
    "\n",
    "Apply preprocessing to each review individually using a loop (alternative to .apply):\n",
    "\n",
    "clean_reviews = []\n",
    "\n",
    "for review in df['review']:\n",
    "\n",
    "    clean_reviews.append(preprocess_text(review))\n",
    "\n",
    "Assign the cleaned reviews to a new column\n",
    "\n",
    "df['clean_review'] = clean_reviews"
   ]
  },
  {
   "cell_type": "markdown",
   "id": "4864cf36",
   "metadata": {},
   "source": [
    "## Anyways, Applying Text Preprocessing \n",
    "\n",
    "We now apply our `preprocess_text` function to every review in the dataset, producing a cleaned version of each review for model input.\n"
   ]
  },
  {
   "cell_type": "code",
   "execution_count": 17,
   "id": "48de0d4c",
   "metadata": {},
   "outputs": [],
   "source": [
    "import re\n",
    "import string\n",
    "\n",
    "# Define a basic list of stopwords manually\n",
    "stop_words = set([\n",
    "    'a', 'an', 'the', 'and', 'or', 'not', 'in', 'on', 'at', 'to', 'from', 'by',\n",
    "    'with', 'about', 'against', 'between', 'into', 'through', 'during', 'before',\n",
    "    'after', 'above', 'below', 'of', 'for', 'is', 'it', 'this', 'that', 'these',\n",
    "    'those', 'he', 'she', 'they', 'you', 'i', 'me', 'my', 'we', 'us', 'our', 'your',\n",
    "    'yours', 'their', 'them', 'what', 'which', 'who', 'whom', 'be', 'have', 'has',\n",
    "    'had', 'do', 'does', 'did', 'will', 'would', 'can', 'could', 'should'\n",
    "])\n",
    "\n",
    "# Define a new cleaner function that does not use NLTK\n",
    "def simple_preprocess(text):\n",
    "    text = text.lower()  # Lowercase\n",
    "    text = re.sub(r'<.*?>', '', text)  # Remove HTML\n",
    "    text = re.sub(r'http\\S+|www.\\S+', '', text)  # Remove URLs\n",
    "    text = text.translate(str.maketrans('', '', string.punctuation))  # Remove punctuation\n",
    "    tokens = text.split()  # Tokenize manually by splitting on spaces\n",
    "    filtered = [word for word in tokens if word.isalpha() and word not in stop_words]  # Remove stopwords\n",
    "    return ' '.join(filtered)\n",
    "\n",
    "# Apply this new version safely with a loop\n",
    "clean_reviews = []\n",
    "for review in df['review']:\n",
    "    clean_reviews.append(simple_preprocess(str(review)))  # Convert to string just in case\n",
    "\n",
    "df['clean_review'] = clean_reviews\n"
   ]
  },
  {
   "cell_type": "markdown",
   "id": "e426767b",
   "metadata": {},
   "source": [
    "## Converting Text to Vectors using TF-IDF \n",
    "\n",
    "Text data must be converted into numerical form. Here, we use TF-IDF (Term Frequency–Inverse Document Frequency) to represent each review as a numeric feature vector.\n"
   ]
  },
  {
   "cell_type": "code",
   "execution_count": 18,
   "id": "d428024d",
   "metadata": {},
   "outputs": [],
   "source": [
    "# Step 5: Convert text data to numerical format using TF-IDF Vectorization\n",
    "vectorizer = TfidfVectorizer(max_features=5000)  # Limit features for speed and performance\n",
    "X = vectorizer.fit_transform(df['clean_review']).toarray()  # Convert sparse matrix to dense"
   ]
  },
  {
   "cell_type": "code",
   "execution_count": 19,
   "id": "453d9069",
   "metadata": {},
   "outputs": [],
   "source": [
    "# Step 6: Encode the target labels (positive -> 1, negative -> 0)\n",
    "label_encoder = LabelEncoder()\n",
    "y = label_encoder.fit_transform(df['sentiment'])"
   ]
  },
  {
   "cell_type": "code",
   "execution_count": 20,
   "id": "6161201b",
   "metadata": {},
   "outputs": [],
   "source": [
    "# Step 7: Split the dataset into training and testing sets\n",
    "X_train, X_test, y_train, y_test = train_test_split(X, y, test_size=0.2, random_state=42)"
   ]
  },
  {
   "cell_type": "markdown",
   "id": "8004c84d",
   "metadata": {},
   "source": [
    "##  Building the Neural Network\n",
    "\n",
    "We construct a simple feedforward neural network using Keras:\n",
    "- Input layer\n",
    "- Hidden layers with ReLU activation\n",
    "- Output layer with sigmoid for binary classification\n"
   ]
  },
  {
   "cell_type": "code",
   "execution_count": 22,
   "id": "c3d92e2d",
   "metadata": {},
   "outputs": [],
   "source": [
    "from keras.models import Sequential\n",
    "from keras.layers import Dense, Input\n",
    "\n",
    "# Step 8: Build the Neural Network model\n",
    "model = Sequential()\n",
    "model.add(Input(shape=(X.shape[1],)))  # ✅ Input layer defined the new way\n",
    "model.add(Dense(64, activation='relu'))  # Hidden layer 1\n",
    "model.add(Dense(32, activation='relu'))  # Hidden layer 2\n",
    "model.add(Dense(1, activation='sigmoid'))  # Output layer for binary classification\n"
   ]
  },
  {
   "cell_type": "markdown",
   "id": "6d8f165a",
   "metadata": {},
   "source": [
    "##  Compiling the Model \n",
    "\n",
    "We configure the model for training with:\n",
    "- Binary crossentropy loss (for binary classification)\n",
    "- Adam optimizer\n",
    "- Accuracy metric\n"
   ]
  },
  {
   "cell_type": "code",
   "execution_count": 23,
   "id": "0066a742",
   "metadata": {},
   "outputs": [],
   "source": [
    "# Step 9: Compile the model\n",
    "model.compile(optimizer=Adam(learning_rate=0.001), loss='binary_crossentropy', metrics=['accuracy'])"
   ]
  },
  {
   "cell_type": "code",
   "execution_count": 24,
   "id": "29aad420",
   "metadata": {},
   "outputs": [
    {
     "name": "stdout",
     "output_type": "stream",
     "text": [
      "Epoch 1/5\n",
      "\u001b[1m250/250\u001b[0m \u001b[32m━━━━━━━━━━━━━━━━━━━━\u001b[0m\u001b[37m\u001b[0m \u001b[1m4s\u001b[0m 8ms/step - accuracy: 0.7973 - loss: 0.4974 - val_accuracy: 0.8875 - val_loss: 0.2737\n",
      "Epoch 2/5\n",
      "\u001b[1m250/250\u001b[0m \u001b[32m━━━━━━━━━━━━━━━━━━━━\u001b[0m\u001b[37m\u001b[0m \u001b[1m2s\u001b[0m 7ms/step - accuracy: 0.9149 - loss: 0.2196 - val_accuracy: 0.8802 - val_loss: 0.2883\n",
      "Epoch 3/5\n",
      "\u001b[1m250/250\u001b[0m \u001b[32m━━━━━━━━━━━━━━━━━━━━\u001b[0m\u001b[37m\u001b[0m \u001b[1m2s\u001b[0m 6ms/step - accuracy: 0.9287 - loss: 0.1853 - val_accuracy: 0.8726 - val_loss: 0.3054\n",
      "Epoch 4/5\n",
      "\u001b[1m250/250\u001b[0m \u001b[32m━━━━━━━━━━━━━━━━━━━━\u001b[0m\u001b[37m\u001b[0m \u001b[1m1s\u001b[0m 6ms/step - accuracy: 0.9358 - loss: 0.1722 - val_accuracy: 0.8731 - val_loss: 0.3225\n",
      "Epoch 5/5\n",
      "\u001b[1m250/250\u001b[0m \u001b[32m━━━━━━━━━━━━━━━━━━━━\u001b[0m\u001b[37m\u001b[0m \u001b[1m1s\u001b[0m 5ms/step - accuracy: 0.9498 - loss: 0.1420 - val_accuracy: 0.8698 - val_loss: 0.3465\n"
     ]
    }
   ],
   "source": [
    "# Step 10: Train the model and store training history\n",
    "history = model.fit(X_train, y_train, epochs=5, batch_size=128, validation_split=0.2)"
   ]
  },
  {
   "cell_type": "code",
   "execution_count": 25,
   "id": "a60eb2f6",
   "metadata": {},
   "outputs": [
    {
     "name": "stdout",
     "output_type": "stream",
     "text": [
      "\u001b[1m313/313\u001b[0m \u001b[32m━━━━━━━━━━━━━━━━━━━━\u001b[0m\u001b[37m\u001b[0m \u001b[1m1s\u001b[0m 4ms/step - accuracy: 0.8700 - loss: 0.3366\n",
      "Test Accuracy: 0.8708, Test Loss: 0.3385\n"
     ]
    }
   ],
   "source": [
    "# Step 11: Evaluate the model on test data\n",
    "test_loss, test_accuracy = model.evaluate(X_test, y_test)\n",
    "print(f'Test Accuracy: {test_accuracy:.4f}, Test Loss: {test_loss:.4f}')"
   ]
  },
  {
   "cell_type": "code",
   "execution_count": 26,
   "id": "9420d8e6",
   "metadata": {},
   "outputs": [
    {
     "data": {
      "text/plain": [
       "<Figure size 1200x500 with 0 Axes>"
      ]
     },
     "execution_count": 26,
     "metadata": {},
     "output_type": "execute_result"
    },
    {
     "data": {
      "text/plain": [
       "<Figure size 1200x500 with 0 Axes>"
      ]
     },
     "metadata": {},
     "output_type": "display_data"
    }
   ],
   "source": [
    "# Step 12: Visualize training & validation loss and accuracy over epochs\n",
    "plt.figure(figsize=(12, 5))"
   ]
  },
  {
   "cell_type": "code",
   "execution_count": 27,
   "id": "bd3f287a",
   "metadata": {},
   "outputs": [
    {
     "data": {
      "text/plain": [
       "<matplotlib.legend.Legend at 0x1aa3e6b2ed0>"
      ]
     },
     "execution_count": 27,
     "metadata": {},
     "output_type": "execute_result"
    },
    {
     "data": {
      "image/png": "[encoded data removed]",
      "text/plain": [
       "<Figure size 640x480 with 1 Axes>"
      ]
     },
     "metadata": {},
     "output_type": "display_data"
    }
   ],
   "source": [
    "# Plotting Loss\n",
    "plt.subplot(1, 2, 1)\n",
    "plt.plot(history.history['loss'], label='Training Loss')\n",
    "plt.plot(history.history['val_loss'], label='Validation Loss')\n",
    "plt.title('Loss Over Epochs')\n",
    "plt.xlabel('Epochs')\n",
    "plt.ylabel('Loss')\n",
    "plt.legend()"
   ]
  },
  {
   "cell_type": "code",
   "execution_count": 29,
   "id": "9e605afa",
   "metadata": {},
   "outputs": [
    {
     "data": {
      "image/png": "[encoded data removed]",
      "text/plain": [
       "<Figure size 640x480 with 1 Axes>"
      ]
     },
     "metadata": {},
     "output_type": "display_data"
    }
   ],
   "source": [
    "# Plotting Accuracy\n",
    "plt.subplot(1, 2, 2)\n",
    "plt.plot(history.history['accuracy'], label='Training Accuracy')\n",
    "plt.plot(history.history['val_accuracy'], label='Validation Accuracy')\n",
    "plt.title('Accuracy Over Epochs')\n",
    "plt.xlabel('Epochs')\n",
    "plt.ylabel('Accuracy')\n",
    "plt.legend()\n",
    "plt.tight_layout()\n",
    "plt.show()"
   ]
  },
  {
   "cell_type": "code",
   "execution_count": null,
   "id": "6327860f",
   "metadata": {},
   "outputs": [
    {
     "name": "stdout",
     "output_type": "stream",
     "text": [
      "\n",
      "\u001b[1mReport Summary:\u001b[0m\n",
      "- The model was able to learn and classify movie reviews with decent accuracy.\n",
      "- Preprocessing text (cleaning, tokenizing, removing stopwords) was key to improving input quality.\n",
      "- Using TF-IDF limited to 5000 features helped balance between information and performance.\n",
      "- Future improvements could include:\n",
      "   - Using LSTM/RNNs for sequential understanding.\n",
      "   - Fine-tuning hyperparameters or adding dropout layers.\n",
      "   - Exploring pretrained language models like BERT for transfer learning.\n"
     ]
    }
   ],
   "source": [
    "# Step 13: Final Thoughts \n",
    "print(\"\\n\\033[1mReport Summary:\\033[0m\")\n",
    "print(\"- The model was able to learn and classify movie reviews with decent accuracy.\")\n",
    "print(\"- Preprocessing text (cleaning, tokenizing, removing stopwords) was key to improving input quality.\")\n",
    "print(\"- Using TF-IDF limited to 5000 features helped balance between information and performance.\")\n",
    "print(\"- Future improvements could include:\")\n",
    "print(\"   - Using LSTM/RNNs for sequential understanding.\")\n",
    "print(\"   - Fine-tuning hyperparameters or adding dropout layers.\")\n",
    "print(\"   - Exploring pretrained language models like BERT for transfer learning.\")"
   ]
  }
 ],
 "metadata": {
  "kernelspec": {
   "display_name": "base",
   "language": "python",
   "name": "python3"
  },
  "language_info": {
   "codemirror_mode": {
    "name": "ipython",
    "version": 3
   },
   "file_extension": ".py",
   "mimetype": "text/x-python",
   "name": "python",
   "nbconvert_exporter": "python",
   "pygments_lexer": "ipython3",
   "version": "3.12.7"
  }
 },
 "nbformat": 4,
 "nbformat_minor": 5
}
